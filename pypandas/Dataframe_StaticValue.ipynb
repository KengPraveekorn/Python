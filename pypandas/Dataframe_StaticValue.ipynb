{
 "cells": [
  {
   "cell_type": "code",
   "execution_count": 3,
   "metadata": {},
   "outputs": [
    {
     "data": {
      "text/html": [
       "<div>\n",
       "<style scoped>\n",
       "    .dataframe tbody tr th:only-of-type {\n",
       "        vertical-align: middle;\n",
       "    }\n",
       "\n",
       "    .dataframe tbody tr th {\n",
       "        vertical-align: top;\n",
       "    }\n",
       "\n",
       "    .dataframe thead th {\n",
       "        text-align: right;\n",
       "    }\n",
       "</style>\n",
       "<table border=\"1\" class=\"dataframe\">\n",
       "  <thead>\n",
       "    <tr style=\"text-align: right;\">\n",
       "      <th></th>\n",
       "      <th>Score</th>\n",
       "      <th>Age</th>\n",
       "      <th>Gender</th>\n",
       "      <th>Grade</th>\n",
       "    </tr>\n",
       "    <tr>\n",
       "      <th>Name</th>\n",
       "      <th></th>\n",
       "      <th></th>\n",
       "      <th></th>\n",
       "      <th></th>\n",
       "    </tr>\n",
       "  </thead>\n",
       "  <tbody>\n",
       "    <tr>\n",
       "      <th>อาทิตย์</th>\n",
       "      <td>90</td>\n",
       "      <td>20</td>\n",
       "      <td>ชาย</td>\n",
       "      <td>A</td>\n",
       "    </tr>\n",
       "    <tr>\n",
       "      <th>นิตยา</th>\n",
       "      <td>75</td>\n",
       "      <td>18</td>\n",
       "      <td>หญิง</td>\n",
       "      <td>B</td>\n",
       "    </tr>\n",
       "    <tr>\n",
       "      <th>โจโจ้</th>\n",
       "      <td>88</td>\n",
       "      <td>22</td>\n",
       "      <td>ชาย</td>\n",
       "      <td>A</td>\n",
       "    </tr>\n",
       "    <tr>\n",
       "      <th>แก้มใส</th>\n",
       "      <td>65</td>\n",
       "      <td>19</td>\n",
       "      <td>หญิง</td>\n",
       "      <td>C</td>\n",
       "    </tr>\n",
       "    <tr>\n",
       "      <th>ตั๊กแตน</th>\n",
       "      <td>82</td>\n",
       "      <td>23</td>\n",
       "      <td>หญิง</td>\n",
       "      <td>A</td>\n",
       "    </tr>\n",
       "    <tr>\n",
       "      <th>เก๋ไก๋</th>\n",
       "      <td>50</td>\n",
       "      <td>20</td>\n",
       "      <td>หญิง</td>\n",
       "      <td>D</td>\n",
       "    </tr>\n",
       "    <tr>\n",
       "      <th>วุฒิชัย</th>\n",
       "      <td>45</td>\n",
       "      <td>17</td>\n",
       "      <td>ชาย</td>\n",
       "      <td>F</td>\n",
       "    </tr>\n",
       "    <tr>\n",
       "      <th>ชัยสิทธิ์</th>\n",
       "      <td>62</td>\n",
       "      <td>18</td>\n",
       "      <td>ชาย</td>\n",
       "      <td>C</td>\n",
       "    </tr>\n",
       "    <tr>\n",
       "      <th>ธนาวุฒิ</th>\n",
       "      <td>95</td>\n",
       "      <td>19</td>\n",
       "      <td>ชาย</td>\n",
       "      <td>A</td>\n",
       "    </tr>\n",
       "  </tbody>\n",
       "</table>\n",
       "</div>"
      ],
      "text/plain": [
       "           Score  Age Gender Grade\n",
       "Name                              \n",
       "อาทิตย์       90   20    ชาย     A\n",
       "นิตยา         75   18   หญิง     B\n",
       "โจโจ้         88   22    ชาย     A\n",
       "แก้มใส        65   19   หญิง     C\n",
       "ตั๊กแตน       82   23   หญิง     A\n",
       "เก๋ไก๋        50   20   หญิง     D\n",
       "วุฒิชัย       45   17    ชาย     F\n",
       "ชัยสิทธิ์     62   18    ชาย     C\n",
       "ธนาวุฒิ       95   19    ชาย     A"
      ]
     },
     "execution_count": 3,
     "metadata": {},
     "output_type": "execute_result"
    }
   ],
   "source": [
    "# ชนิดข้อมูลและค่าทางสถิติ\n",
    "import pandas as pd\n",
    "df = pd.read_excel(\"dataupdate.xlsx\",\"score\")\n",
    "df.set_index([\"Name\"],inplace=True)\n",
    "df"
   ]
  },
  {
   "cell_type": "code",
   "execution_count": 6,
   "metadata": {},
   "outputs": [
    {
     "data": {
      "text/plain": [
       "Name\n",
       "อาทิตย์      90\n",
       "นิตยา        75\n",
       "โจโจ้        88\n",
       "แก้มใส       65\n",
       "ตั๊กแตน      82\n",
       "เก๋ไก๋       50\n",
       "วุฒิชัย      45\n",
       "ชัยสิทธิ์    62\n",
       "ธนาวุฒิ      95\n",
       "Name: Score, dtype: int64"
      ]
     },
     "execution_count": 6,
     "metadata": {},
     "output_type": "execute_result"
    }
   ],
   "source": [
    "df.Score #คะแนนทั้งหมด"
   ]
  },
  {
   "cell_type": "code",
   "execution_count": 7,
   "metadata": {},
   "outputs": [
    {
     "data": {
      "text/plain": [
       "95"
      ]
     },
     "execution_count": 7,
     "metadata": {},
     "output_type": "execute_result"
    }
   ],
   "source": [
    "df.Score.max() #คะแนนสูงสุด"
   ]
  },
  {
   "cell_type": "code",
   "execution_count": 8,
   "metadata": {},
   "outputs": [
    {
     "data": {
      "text/plain": [
       "45"
      ]
     },
     "execution_count": 8,
     "metadata": {},
     "output_type": "execute_result"
    }
   ],
   "source": [
    "df.Score.min() #คะแนนต่ำสุด"
   ]
  },
  {
   "cell_type": "code",
   "execution_count": 9,
   "metadata": {},
   "outputs": [
    {
     "data": {
      "text/plain": [
       "72.44444444444444"
      ]
     },
     "execution_count": 9,
     "metadata": {},
     "output_type": "execute_result"
    }
   ],
   "source": [
    "df.Score.mean() #ค่าเฉลี่ย"
   ]
  },
  {
   "cell_type": "code",
   "execution_count": 10,
   "metadata": {},
   "outputs": [
    {
     "data": {
      "text/plain": [
       "17.95209675157133"
      ]
     },
     "execution_count": 10,
     "metadata": {},
     "output_type": "execute_result"
    }
   ],
   "source": [
    "df.Score.std() #ส่วนเบี่ยงเบนมาตรฐาน"
   ]
  },
  {
   "cell_type": "code",
   "execution_count": 11,
   "metadata": {},
   "outputs": [
    {
     "data": {
      "text/plain": [
       "9"
      ]
     },
     "execution_count": 11,
     "metadata": {},
     "output_type": "execute_result"
    }
   ],
   "source": [
    "df.Score.count() #นับจำนวนข้อมูลทั้งหมด"
   ]
  },
  {
   "cell_type": "code",
   "execution_count": 13,
   "metadata": {},
   "outputs": [
    {
     "data": {
      "text/plain": [
       "652"
      ]
     },
     "execution_count": 13,
     "metadata": {},
     "output_type": "execute_result"
    }
   ],
   "source": [
    "df.Score.sum() #ผลรวมข้อมูล"
   ]
  },
  {
   "cell_type": "code",
   "execution_count": 14,
   "metadata": {},
   "outputs": [
    {
     "data": {
      "text/plain": [
       "72.44444444444444"
      ]
     },
     "execution_count": 14,
     "metadata": {},
     "output_type": "execute_result"
    }
   ],
   "source": [
    "df.Score.sum()/df.Score.count() #mean"
   ]
  },
  {
   "cell_type": "code",
   "execution_count": 15,
   "metadata": {},
   "outputs": [
    {
     "data": {
      "text/plain": [
       "Score      int64\n",
       "Age        int64\n",
       "Gender    object\n",
       "Grade     object\n",
       "dtype: object"
      ]
     },
     "execution_count": 15,
     "metadata": {},
     "output_type": "execute_result"
    }
   ],
   "source": [
    "df.dtypes #บอกชนิดข้อมูลแต่ละคอลัมน์"
   ]
  },
  {
   "cell_type": "code",
   "execution_count": 16,
   "metadata": {},
   "outputs": [],
   "source": [
    "df.Grade=df.Grade.astype('category') #เปลี่ยนชนิดข้อมูล"
   ]
  },
  {
   "cell_type": "code",
   "execution_count": 17,
   "metadata": {},
   "outputs": [
    {
     "data": {
      "text/plain": [
       "Score        int64\n",
       "Age          int64\n",
       "Gender      object\n",
       "Grade     category\n",
       "dtype: object"
      ]
     },
     "execution_count": 17,
     "metadata": {},
     "output_type": "execute_result"
    }
   ],
   "source": [
    "df.dtypes"
   ]
  },
  {
   "cell_type": "code",
   "execution_count": null,
   "metadata": {},
   "outputs": [],
   "source": []
  }
 ],
 "metadata": {
  "interpreter": {
   "hash": "63fd5069d213b44bf678585dea6b12cceca9941eaf7f819626cde1f2670de90d"
  },
  "kernelspec": {
   "display_name": "Python 3.9.12 64-bit",
   "language": "python",
   "name": "python3"
  },
  "language_info": {
   "codemirror_mode": {
    "name": "ipython",
    "version": 3
   },
   "file_extension": ".py",
   "mimetype": "text/x-python",
   "name": "python",
   "nbconvert_exporter": "python",
   "pygments_lexer": "ipython3",
   "version": "3.9.12"
  },
  "orig_nbformat": 4
 },
 "nbformat": 4,
 "nbformat_minor": 2
}
